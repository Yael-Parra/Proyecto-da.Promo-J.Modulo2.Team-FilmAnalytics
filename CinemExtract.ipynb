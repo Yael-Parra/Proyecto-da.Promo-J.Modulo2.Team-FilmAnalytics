{
 "cells": [
  {
   "cell_type": "markdown",
   "metadata": {},
   "source": [
    "# Proyecto\n",
    "______________\n",
    "\n",
    "API: https://dev.adalab.es/cinema/\n",
    "Endpoint : https://dev.adalab.es/api/cinema/movies?year=2010&genre=Drama"
   ]
  },
  {
   "cell_type": "code",
   "execution_count": 6,
   "metadata": {},
   "outputs": [],
   "source": [
    "#Importar librerías para su posterior uso en el código\n",
    "import tqdm\n",
    "from bs4 import BeautifulSoup\n",
    "import requests\n",
    "import pandas as pd\n",
    "import re\n",
    "import datetime\n",
    "pd.set_option('display.max_columns', None) # para poder visualizar todas las columnas de los DataFrames"
   ]
  },
  {
   "cell_type": "code",
   "execution_count": 8,
   "metadata": {},
   "outputs": [
    {
     "data": {
      "text/plain": [
       "200"
      ]
     },
     "execution_count": 8,
     "metadata": {},
     "output_type": "execute_result"
    }
   ],
   "source": [
    "#Llamar a la API con sus variables ya que la URL debe de ser string dinámico puesto que cambian los datos dentro.\n",
    "\n",
    "anio = list(range(2009,2025))\n",
    "genero = [\"Drama\", \"Comedy\", \"Action\", \"Fantasy\", \"Horror\", \"Mystery\", \"Romance\", \"Thriller\"]\n",
    "url_movies = f\"https://dev.adalab.es/api/cinema/movies?year={anio}&genre={genero}\"\n",
    "\n",
    "res_url_movies = requests.get(url_movies)\n",
    "#Codigo de respuesta\n",
    "res_url_movies.status_code\n"
   ]
  },
  {
   "cell_type": "code",
   "execution_count": 9,
   "metadata": {},
   "outputs": [
    {
     "name": "stdout",
     "output_type": "stream",
     "text": [
      "<bound method Response.json of <Response [200]>>\n"
     ]
    }
   ],
   "source": [
    "print(res_url_movies.json)"
   ]
  },
  {
   "cell_type": "markdown",
   "metadata": {},
   "source": [
    "- Output CARLA de bucle for:\n",
    "\n",
    "Procesando películas: 100%|██████████| 10/10 [00:00<?, ?it/s]\n",
    "Resultados obtenidos:\n",
    "Título: El Tango del Viudo y Su Espejo Deformante, Tipo: Movie, Año: 2020, Género: Drama, ID: tt0062336\n",
    "Título: Love & Orgasms, Tipo: Movie, Año: 2020, Género: Drama, ID: tt0383477\n",
    "Título: I Know This Much Is True, Tipo: TV Series, Año: 2020, Género: Drama, ID: tt0425118\n",
    "Título: Surviving in L.A., Tipo: Movie, Año: 2020, Género: Drama, ID: tt0446792\n",
    "Título: Duel of Legends, Tipo: Movie, Año: 2020, Género: Drama, ID: tt0849437\n",
    "Título: Lost Girls and Love Hotels, Tipo: Movie, Año: 2020, Género: Drama, ID: tt0920462\n",
    "Título: \"Gallavich!\", Tipo: TV Episode, Año: 2020, Género: Drama, ID: tt10001184\n",
    "Título: Chapter One: The Singing Bones, Tipo: TV Episode, Año: 2020, Género: Drama, ID: tt10004744\n",
    "Título: Avocado Toast the series, Tipo: TV Series, Año: 2020, Género: Drama, ID: tt10006418\n",
    "Título: Hiving the Bees, Tipo: TV Episode, Año: 2020, Género: Drama, ID: tt10004704\n",
    "Datos guardados en movies_Drama_2020.csv"
   ]
  }
 ],
 "metadata": {
  "kernelspec": {
   "display_name": "base",
   "language": "python",
   "name": "python3"
  },
  "language_info": {
   "codemirror_mode": {
    "name": "ipython",
    "version": 3
   },
   "file_extension": ".py",
   "mimetype": "text/x-python",
   "name": "python",
   "nbconvert_exporter": "python",
   "pygments_lexer": "ipython3",
   "version": "3.12.4"
  }
 },
 "nbformat": 4,
 "nbformat_minor": 2
}
