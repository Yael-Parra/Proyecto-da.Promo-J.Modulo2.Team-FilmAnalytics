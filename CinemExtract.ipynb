{
 "cells": [
  {
   "cell_type": "markdown",
   "metadata": {},
   "source": [
    "# Proyecto\n",
    "______________\n",
    "\n",
    "API: https://dev.adalab.es/cinema/\n",
    "Endpoint : https://dev.adalab.es/api/cinema/movies?year=2010&genre=Drama"
   ]
  },
  {
   "cell_type": "code",
   "execution_count": 10,
   "metadata": {},
   "outputs": [],
   "source": [
    "#Importar librerías para su posterior uso en el código\n",
    "import tqdm\n",
    "from bs4 import BeautifulSoup\n",
    "import requests\n",
    "import pandas as pd\n",
    "import re\n",
    "import datetime\n",
    "import json\n",
    "pd.set_option('display.max_columns', None) # para poder visualizar todas las columnas de los DataFrames"
   ]
  },
  {
   "cell_type": "code",
   "execution_count": 20,
   "metadata": {},
   "outputs": [
    {
     "name": "stdout",
     "output_type": "stream",
     "text": [
      "{'info': {'count': 0}, 'results': []}\n",
      "<class 'dict'>\n"
     ]
    },
    {
     "ename": "TypeError",
     "evalue": "string indices must be integers, not 'str'",
     "output_type": "error",
     "traceback": [
      "\u001b[1;31m---------------------------------------------------------------------------\u001b[0m",
      "\u001b[1;31mTypeError\u001b[0m                                 Traceback (most recent call last)",
      "Cell \u001b[1;32mIn[20], line 27\u001b[0m\n\u001b[0;32m     25\u001b[0m \u001b[38;5;28mprint\u001b[39m(\u001b[38;5;28mtype\u001b[39m(json_url_general))\n\u001b[0;32m     26\u001b[0m \u001b[38;5;28;01mfor\u001b[39;00m peliculas \u001b[38;5;129;01min\u001b[39;00m json_url_general:\n\u001b[1;32m---> 27\u001b[0m     id_pelicula \u001b[38;5;241m=\u001b[39m peliculas[\u001b[38;5;124m\"\u001b[39m\u001b[38;5;124mid\u001b[39m\u001b[38;5;124m\"\u001b[39m]\n\u001b[0;32m     28\u001b[0m     titulo \u001b[38;5;241m=\u001b[39m peliculas[\u001b[38;5;124m'\u001b[39m\u001b[38;5;124mtitle\u001b[39m\u001b[38;5;124m'\u001b[39m]\n\u001b[0;32m     29\u001b[0m     tipo \u001b[38;5;241m=\u001b[39m peliculas[\u001b[38;5;124m\"\u001b[39m\u001b[38;5;124mtype\u001b[39m\u001b[38;5;124m\"\u001b[39m]\n",
      "\u001b[1;31mTypeError\u001b[0m: string indices must be integers, not 'str'"
     ]
    }
   ],
   "source": [
    "#Llamar a la API con sus variables ya que la URL debe de ser string dinámico puesto que cambian los datos dentro.\n",
    "\n",
    "anio_lista = list(range(2009,2025))\n",
    "\n",
    "\n",
    "#Diccionarios de géneros\n",
    "generos_lista = [\"Drama\", \"Comedy\", \"Action\", \"Fantasy\", \"Horror\", \"Mystery\", \"Romance\", \"Thriller\"]\n",
    "#Lista para añadir los datos por año y género\n",
    "datos_peliculas = []\n",
    "datos_peliculas_tupla = tuple(datos_peliculas)\n",
    "\n",
    "\n",
    "\n",
    "#Extraer datos por año y genero y almacenarlo en la variable peliculas\n",
    "for anio in anio_lista:\n",
    "    for genero  in generos_lista:\n",
    "        #URL dinámica con año y género\n",
    "        url_movies = f\"https://dev.adalab.es/api/cinema/movies?year={anio_lista}&genre={generos_lista}\"\n",
    "        #Llamada con request a la url\n",
    "        res_url_movies = requests.get(url_movies)\n",
    "            #Convertir la info en json\n",
    "        if res_url_movies.status_code == 200:\n",
    "            json_url_general = res_url_movies.json()\n",
    "            print(json_url_general)\n",
    "            print(type(json_url_general))\n",
    "            for peliculas in json_url_general:\n",
    "                id_pelicula = peliculas[\"id\"]\n",
    "                titulo = peliculas['title']\n",
    "                tipo = peliculas[\"type\"]\n",
    "                anio = peliculas[\"year\"]\n",
    "                genero = [\"genre\"]\n",
    "                datos_peliculas.append(id_pelicula,titulo,tipo,anio,genero)\n",
    "        else:\n",
    "            print(f\"Error: {res_url_movies.reason}\")\n"
   ]
  },
  {
   "cell_type": "markdown",
   "metadata": {},
   "source": [
    "Tipo (si es corto o película).\n",
    "\n",
    "Nombre de la película o el corto.\n",
    "\n",
    "Año de estreno de la película o corto.\n",
    "\n",
    "Id de la película."
   ]
  },
  {
   "cell_type": "markdown",
   "metadata": {},
   "source": [
    "- Output CARLA de bucle for:\n",
    "\n",
    "Procesando películas: 100%|██████████| 10/10 [00:00<?, ?it/s]\n",
    "Resultados obtenidos:\n",
    "Título: El Tango del Viudo y Su Espejo Deformante, Tipo: Movie, Año: 2020, Género: Drama, ID: tt0062336\n",
    "Título: Love & Orgasms, Tipo: Movie, Año: 2020, Género: Drama, ID: tt0383477\n",
    "Título: I Know This Much Is True, Tipo: TV Series, Año: 2020, Género: Drama, ID: tt0425118\n",
    "Título: Surviving in L.A., Tipo: Movie, Año: 2020, Género: Drama, ID: tt0446792\n",
    "Título: Duel of Legends, Tipo: Movie, Año: 2020, Género: Drama, ID: tt0849437\n",
    "Título: Lost Girls and Love Hotels, Tipo: Movie, Año: 2020, Género: Drama, ID: tt0920462\n",
    "Título: \"Gallavich!\", Tipo: TV Episode, Año: 2020, Género: Drama, ID: tt10001184\n",
    "Título: Chapter One: The Singing Bones, Tipo: TV Episode, Año: 2020, Género: Drama, ID: tt10004744\n",
    "Título: Avocado Toast the series, Tipo: TV Series, Año: 2020, Género: Drama, ID: tt10006418\n",
    "Título: Hiving the Bees, Tipo: TV Episode, Año: 2020, Género: Drama, ID: tt10004704\n",
    "Datos guardados en movies_Drama_2020.csv"
   ]
  },
  {
   "cell_type": "markdown",
   "metadata": {},
   "source": [
    "ID = \"id\"\n",
    "título = \"title\"\n",
    "Tipo_de_peli= \"type\"\n",
    "año_estreno = \"year\"\n",
    "genero = \"genre\""
   ]
  }
 ],
 "metadata": {
  "kernelspec": {
   "display_name": "base",
   "language": "python",
   "name": "python3"
  },
  "language_info": {
   "codemirror_mode": {
    "name": "ipython",
    "version": 3
   },
   "file_extension": ".py",
   "mimetype": "text/x-python",
   "name": "python",
   "nbconvert_exporter": "python",
   "pygments_lexer": "ipython3",
   "version": "3.12.4"
  }
 },
 "nbformat": 4,
 "nbformat_minor": 2
}
