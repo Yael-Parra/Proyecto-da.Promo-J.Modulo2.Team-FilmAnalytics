{
 "cells": [
  {
   "cell_type": "markdown",
   "metadata": {},
   "source": [
    "# Proyecto\n",
    "______________\n",
    "\n",
    "API: https://dev.adalab.es/cinema/\n",
    "Endpoint : https://dev.adalab.es/api/cinema/movies?year=2010&genre=Drama"
   ]
  },
  {
   "cell_type": "code",
   "execution_count": 1,
   "metadata": {},
   "outputs": [],
   "source": [
    "#Importar librerías para su posterior uso en el código\n",
    "import tqdm\n",
    "from bs4 import BeautifulSoup\n",
    "import requests\n",
    "import pandas as pd\n",
    "import re\n",
    "import datetime\n",
    "import json\n",
    "from time import sleep\n",
    "pd.set_option('display.max_columns', None) # para poder visualizar todas las columnas de los DataFrames"
   ]
  },
  {
   "cell_type": "code",
   "execution_count": 2,
   "metadata": {},
   "outputs": [
    {
     "name": "stdout",
     "output_type": "stream",
     "text": [
      "{'info': {'count': 10}, 'results': [{'id': 59404, 'title': 'Apaföld', 'type': 'Movie', 'year': '2009', 'genre': 'Drama', 'idOwner': 'tt0143558', 'image': 'https://m.media-amazon.com/images/M/MV5BYjA5Y2M3ZDAtNjg4OC00ZDQ5LWI4MzgtM2E0NTdjZmUwZjE1XkEyXkFqcGdeQXVyNDYzMDMxOTc@._V1_.jpg'}, {'id': 59405, 'title': 'Rózsaszín sajt', 'type': 'Movie', 'year': '2009', 'genre': 'Drama', 'idOwner': 'tt0153140', 'image': 'https://m.media-amazon.com/images/M/MV5BMjE2NDAxNDE0Nl5BMl5BanBnXkFtZTgwMTU1MjQwNjE@._V1_.jpg'}, {'id': 59406, 'title': 'Sanam Teri Kasam', 'type': 'Movie', 'year': '2009', 'genre': 'Drama', 'idOwner': 'tt0205380', 'image': 'https://m.media-amazon.com/images/M/MV5BYjc3MGNhMmItMjljOS00NjY5LThlMmQtYWM1NWZiOGJlY2EyXkEyXkFqcGdeQXVyMjU4NDY1ODA@._V1_.jpg'}, {'id': 59407, 'title': 'Twice as Dead', 'type': 'Movie', 'year': '2009', 'genre': 'Drama', 'idOwner': 'tt0254832', 'image': 'https://m.media-amazon.com/images/M/MV5BMTI2NjA5NDkyMl5BMl5BanBnXkFtZTcwNjAxNTEwMw@@._V1_.jpg'}, {'id': 59408, 'title': 'Railed', 'type': 'Movie', 'year': '2009', 'genre': 'Drama', 'idOwner': 'tt0311698', 'image': 'https://m.media-amazon.com/images/M/MV5BMTkyMzIzNjUwOF5BMl5BanBnXkFtZTgwMzgwNzE1MjE@._V1_.jpg'}, {'id': 59409, 'title': 'Coraline', 'type': 'Movie', 'year': '2009', 'genre': 'Drama', 'idOwner': 'tt0327597', 'image': 'https://m.media-amazon.com/images/M/MV5BMzQxNjM5NzkxNV5BMl5BanBnXkFtZTcwMzg5NDMwMg@@._V1_.jpg'}, {'id': 59410, 'title': 'Mitsein', 'type': 'Movie', 'year': '2009', 'genre': 'Drama', 'idOwner': 'tt0344074', 'image': 'https://m.media-amazon.com/images/M/MV5BMTgwNTgxNzM5MV5BMl5BanBnXkFtZTcwODk1MDIzMQ@@._V1_.jpg'}, {'id': 59411, 'title': 'Blood and Bone', 'type': 'Movie', 'year': '2009', 'genre': 'Drama', 'idOwner': 'tt0346631', 'image': 'https://m.media-amazon.com/images/M/MV5BNjE0MDc4ODY4Ml5BMl5BanBnXkFtZTcwNDI2NjM4Mg@@._V1_.jpg'}, {'id': 59412, 'title': 'Inglourious Basterds', 'type': 'Movie', 'year': '2009', 'genre': 'Drama', 'idOwner': 'tt0361748', 'image': 'https://m.media-amazon.com/images/M/MV5BOTJiNDEzOWYtMTVjOC00ZjlmLWE0NGMtZmE1OWVmZDQ2OWJhXkEyXkFqcGdeQXVyNTIzOTk5ODM@._V1_.jpg'}, {'id': 59413, 'title': 'The Box', 'type': 'Movie', 'year': '2009', 'genre': 'Drama', 'idOwner': 'tt0362478', 'image': 'https://m.media-amazon.com/images/M/MV5BMTI4MDA5NjIwM15BMl5BanBnXkFtZTcwNTA2MjY0Mg@@._V1_.jpg'}]}\n",
      "<class 'dict'>\n",
      "{'info': {'count': 8}, 'results': [{'id': 59444, 'title': 'I Miss Sonia Henie', 'type': 'Short', 'year': '2009', 'genre': 'Comedy', 'idOwner': 'tt0067230', 'image': 'https://m.media-amazon.com/images/M/MV5BOGUwZmQ0ZGYtNTk5OS00NWMyLTlkYWQtZjBjOGI5MWY3N2UzXkEyXkFqcGdeQXVyMDY4MzkyNw@@._V1_.jpg'}, {'id': 59446, 'title': 'El reino de los cielos', 'type': 'Movie', 'year': '2009', 'genre': 'Comedy', 'idOwner': 'tt0288190', 'image': 'https://m.media-amazon.com/images/M/MV5BZTEyYmNiOWQtNTM4OS00NTQ2LTgwNWItYjY3Y2RkYTY0Y2E3XkEyXkFqcGdeQXVyMDcwNzg1MQ@@._V1_.jpg'}, {'id': 59447, 'title': 'Unter Strom', 'type': 'Movie', 'year': '2009', 'genre': 'Comedy', 'idOwner': 'tt0304876', 'image': 'https://m.media-amazon.com/images/M/MV5BZDgzNTM0NTgtYTQ1ZC00NDJlLTk5YzAtOTFmM2Y1ZmI2YTIzXkEyXkFqcGdeQXVyNTM3MDMyMDQ@._V1_.jpg'}, {'id': 59449, 'title': 'Chinango', 'type': 'Movie', 'year': '2009', 'genre': 'Comedy', 'idOwner': 'tt0312958', 'image': 'https://m.media-amazon.com/images/M/MV5BMTk3NTYwNTc3MF5BMl5BanBnXkFtZTcwODk4MTkzMQ@@._V1_.jpg'}, {'id': 59450, 'title': 'Mutant Swinger from Mars', 'type': 'Video', 'year': '2009', 'genre': 'Comedy', 'idOwner': 'tt0345683', 'image': 'https://m.media-amazon.com/images/M/MV5BNjIwNDA2ZDMtNzAxNC00NDEyLTk5MzEtYjg5MDA2YjA5YTRkXkEyXkFqcGdeQXVyNDc1MzA4MDE@._V1_.jpg'}, {'id': 59451, 'title': 'Los muertos van deprisa', 'type': 'Movie', 'year': '2009', 'genre': 'Comedy', 'idOwner': 'tt0353765', 'image': 'https://m.media-amazon.com/images/M/MV5BNDIwMDFkZmYtMTc0MS00MzAyLWFkNDAtYmRmMmMyNjdiMWY5XkEyXkFqcGdeQXVyMTM2Mzg4MA@@._V1_.jpg'}, {'id': 59452, 'title': 'Two-Minute Heist', 'type': 'Movie', 'year': '2009', 'genre': 'Comedy', 'idOwner': 'tt0365873', 'image': 'https://m.media-amazon.com/images/M/MV5BMTcyOTc0ODA0M15BMl5BanBnXkFtZTgwMzU5OTk1MDE@._V1_.jpg'}, {'id': 59453, 'title': 'Astro Boy', 'type': 'Movie', 'year': '2009', 'genre': 'Comedy', 'idOwner': 'tt0375568', 'image': 'https://m.media-amazon.com/images/M/MV5BMTI5NTEwNTcxMl5BMl5BanBnXkFtZTcwMDEyMTE4Mg@@._V1_.jpg'}]}\n",
      "<class 'dict'>\n",
      "{'info': {'count': 6}, 'results': [{'id': 59487, 'title': 'Whiteout', 'type': 'Movie', 'year': '2009', 'genre': 'Action', 'idOwner': 'tt0365929', 'image': 'https://m.media-amazon.com/images/M/MV5BNTEyMDgwNzU1NF5BMl5BanBnXkFtZTcwMDkxMzI4Mg@@._V1_.jpg'}, {'id': 59488, 'title': 'Sterling: The Secret of the Lost Medallion', 'type': 'Movie', 'year': '2009', 'genre': 'Action', 'idOwner': 'tt0373340', 'image': 'https://m.media-amazon.com/images/M/MV5BMjE5Njc2MzcxN15BMl5BanBnXkFtZTcwMjE2MDUzMQ@@._V1_.jpg'}, {'id': 59490, 'title': 'Watchmen', 'type': 'Movie', 'year': '2009', 'genre': 'Action', 'idOwner': 'tt0409459', 'image': 'https://m.media-amazon.com/images/M/MV5BY2IzNGNiODgtOWYzOS00OTI0LTgxZTUtOTA5OTQ5YmI3NGUzXkEyXkFqcGdeQXVyNjU0OTQ0OTY@._V1_.jpg'}, {'id': 59491, 'title': 'Harry Potter en de halfbloed prins', 'type': 'Movie', 'year': '2009', 'genre': 'Action', 'idOwner': 'tt0417741', 'image': 'https://m.media-amazon.com/images/M/MV5BNzU3NDg4NTAyNV5BMl5BanBnXkFtZTcwOTg2ODg1Mg@@._V1_.jpg'}, {'id': 59492, 'title': 'The Haunted World of El Superbeasto', 'type': 'Video', 'year': '2009', 'genre': 'Action', 'idOwner': 'tt0419724', 'image': 'https://m.media-amazon.com/images/M/MV5BNTM5ODMyNjg2NF5BMl5BanBnXkFtZTcwMDA3ODc2Mg@@._V1_.jpg'}, {'id': 59493, 'title': 'Royal Kill', 'type': 'Movie', 'year': '2009', 'genre': 'Action', 'idOwner': 'tt0421237', 'image': 'https://m.media-amazon.com/images/M/MV5BMjA3NDU3ODIwM15BMl5BanBnXkFtZTcwNTkxNjk0Mg@@._V1_.jpg'}]}\n",
      "<class 'dict'>\n",
      "{'info': {'count': 7}, 'results': [{'id': 59524, 'title': 'The Magic Stone', 'type': 'Movie', 'year': '2009', 'genre': 'Fantasy', 'idOwner': 'tt0293354', 'image': 'https://m.media-amazon.com/images/M/MV5BMTNkYWI4ZWQtNjE4YS00YjYyLWI0N2ItNTkxZTNhYTY4NGMxXkEyXkFqcGdeQXVyNDUxNjc5NjY@._V1_.jpg'}, {'id': 59527, 'title': 'Malice in Wonderland', 'type': 'Movie', 'year': '2009', 'genre': 'Fantasy', 'idOwner': 'tt0374853', 'image': 'https://m.media-amazon.com/images/M/MV5BMTM5ODQ0NDUyMV5BMl5BanBnXkFtZTcwMzg5OTEzMw@@._V1_.jpg'}, {'id': 59529, 'title': 'The Lovely Bones', 'type': 'Movie', 'year': '2009', 'genre': 'Fantasy', 'idOwner': 'tt0380510', 'image': 'https://m.media-amazon.com/images/M/MV5BMjAwNDA1MTM2MF5BMl5BanBnXkFtZTcwMzg3NDcwMw@@._V1_.jpg'}, {'id': 59530, 'title': 'Skellig', 'type': 'TV Movie', 'year': '2009', 'genre': 'Fantasy', 'idOwner': 'tt0382301', 'image': 'https://m.media-amazon.com/images/M/MV5BOTQyMjM4MzkwMl5BMl5BanBnXkFtZTgwOTMxOTkwMzE@._V1_.jpg'}, {'id': 59531, 'title': 'Max en de maximonsters', 'type': 'Movie', 'year': '2009', 'genre': 'Fantasy', 'idOwner': 'tt0386117', 'image': 'https://m.media-amazon.com/images/M/MV5BNzQ1NzAwODEwM15BMl5BanBnXkFtZTcwNTE4MjI4Mg@@._V1_.jpg'}, {'id': 59532, 'title': 'Proinhibition', 'type': 'Short', 'year': '2009', 'genre': 'Fantasy', 'idOwner': 'tt0411774', 'image': 'Unknown'}, {'id': 59533, 'title': 'The Dream of Alvareen', 'type': 'Video', 'year': '2009', 'genre': 'Fantasy', 'idOwner': 'tt0415764', 'image': 'https://m.media-amazon.com/images/M/MV5BZTRjNDE5NmYtM2Y2NC00MzgzLWFmNTUtNWYzMDdjNzdlZDMwXkEyXkFqcGdeQXVyMTk5OTUxNTY@._V1_.jpg'}]}\n",
      "<class 'dict'>\n",
      "{'info': {'count': 9}, 'results': [{'id': 59564, 'title': 'T.M.A.', 'type': 'Movie', 'year': '2009', 'genre': 'Horror', 'idOwner': 'tt0289146', 'image': 'https://m.media-amazon.com/images/M/MV5BMTY3ODYyMzAxMF5BMl5BanBnXkFtZTcwNTkxOTY3Mw@@._V1_.jpg'}, {'id': 59565, 'title': 'El libro de piedra', 'type': 'Movie', 'year': '2009', 'genre': 'Horror', 'idOwner': 'tt0353665', 'image': 'https://m.media-amazon.com/images/M/MV5BMTZhMmQ3NjQtYWY4Ni00M2EyLTliZmQtZTBiMzgxODQwZDkyXkEyXkFqcGdeQXVyMTExODQ3Nzk2._V1_.jpg'}, {'id': 59566, 'title': 'Possession', 'type': 'Movie', 'year': '2009', 'genre': 'Horror', 'idOwner': 'tt0368563', 'image': 'https://m.media-amazon.com/images/M/MV5BNTk3MzQwNDA2Ml5BMl5BanBnXkFtZTcwNTQwMDg1MQ@@._V1_.jpg'}, {'id': 59568, 'title': 'It Came from Trafalgar', 'type': 'Movie', 'year': '2009', 'genre': 'Horror', 'idOwner': 'tt0425141', 'image': 'https://m.media-amazon.com/images/M/MV5BZmExZTAxZWQtZjU1Ni00Nzk1LWFjY2ItZTc4YjNiNDBiMDQ1XkEyXkFqcGdeQXVyMDYxMDYyOA@@._V1_.jpg'}, {'id': 59569, 'title': 'Cabeza de pescado', 'type': 'Movie', 'year': '2009', 'genre': 'Horror', 'idOwner': 'tt0431670', 'image': 'https://m.media-amazon.com/images/M/MV5BYmYxMDhmZDQtYTFiMi00NmFjLWE0YTItYjA1MWVhMmQ1YTU2XkEyXkFqcGdeQXVyNzgyNDE2MzE@._V1_.jpg'}, {'id': 59570, 'title': 'Silo Killer 2: The Wrath of Kyle', 'type': 'Video', 'year': '2009', 'genre': 'Horror', 'idOwner': 'tt0431402', 'image': 'https://m.media-amazon.com/images/M/MV5BNzg3MDk4NTQyMF5BMl5BanBnXkFtZTcwNzEzNjI3Mg@@._V1_.jpg'}, {'id': 59571, 'title': 'Daybreakers', 'type': 'Movie', 'year': '2009', 'genre': 'Horror', 'idOwner': 'tt0433362', 'image': 'https://m.media-amazon.com/images/M/MV5BNzg3NDYyMDU4Nl5BMl5BanBnXkFtZTcwODA5NzA5Mg@@._V1_.jpg'}, {'id': 59572, 'title': 'Cabras', 'type': 'Movie', 'year': '2009', 'genre': 'Horror', 'idOwner': 'tt0436154', 'image': 'https://m.media-amazon.com/images/M/MV5BMjI0MTk2MjEwM15BMl5BanBnXkFtZTcwNDExNzAyNw@@._V1_.jpg'}, {'id': 59573, 'title': 'Town Creek', 'type': 'Movie', 'year': '2009', 'genre': 'Horror', 'idOwner': 'tt0450336', 'image': 'https://m.media-amazon.com/images/M/MV5BMTkwNzMzNzA0OF5BMl5BanBnXkFtZTcwNjQ0NDM1Mw@@._V1_.jpg'}]}\n",
      "<class 'dict'>\n",
      "{'info': {'count': 2}, 'results': [{'id': 59604, 'title': 'Moonlight Blade', 'type': 'Movie', 'year': '2009', 'genre': 'Mystery', 'idOwner': 'tt0121569', 'image': 'https://m.media-amazon.com/images/M/MV5BNTk1ZTY1NWQtMjVhNS00MjcwLWI2MjMtNTJmODliZGUxMTQwXkEyXkFqcGdeQXVyMjk2MzM1MTI@._V1_.jpg'}, {'id': 59611, 'title': 'Cargo', 'type': 'Movie', 'year': '2009', 'genre': 'Mystery', 'idOwner': 'tt0381940', 'image': 'https://m.media-amazon.com/images/M/MV5BNzUyOTgwMTA0MV5BMl5BanBnXkFtZTcwNTMwOTYyMw@@._V1_.jpg'}]}\n",
      "<class 'dict'>\n",
      "{'info': {'count': 8}, 'results': [{'id': 59645, 'title': 'House of Boys', 'type': 'Movie', 'year': '2009', 'genre': 'Romance', 'idOwner': 'tt0405022', 'image': 'https://m.media-amazon.com/images/M/MV5BMTc3MjIwMTI1M15BMl5BanBnXkFtZTgwMDEyNTQyMTE@._V1_.jpg'}, {'id': 59646, 'title': 'Youth in Revolt', 'type': 'Movie', 'year': '2009', 'genre': 'Romance', 'idOwner': 'tt0403702', 'image': 'https://m.media-amazon.com/images/M/MV5BMjE3NTkxODUwOV5BMl5BanBnXkFtZTcwMjE4NjI5Mg@@._V1_.jpg'}, {'id': 59647, 'title': 'Utolsó jelentés Annáról', 'type': 'Movie', 'year': '2009', 'genre': 'Romance', 'idOwner': 'tt0407852', 'image': 'https://m.media-amazon.com/images/M/MV5BZmYyZGMzMzctMDYyNy00YmIxLWEyZmUtZDUxYjk5MzViMDliL2ltYWdlL2ltYWdlXkEyXkFqcGdeQXVyMjIzMDAwOTc@._V1_.jpg'}, {'id': 59649, 'title': 'The Perfect Sleep', 'type': 'Movie', 'year': '2009', 'genre': 'Romance', 'idOwner': 'tt0435716', 'image': 'https://m.media-amazon.com/images/M/MV5BOTQyMDk5NTA2MF5BMl5BanBnXkFtZTcwNTEyMjk1Mg@@._V1_.jpg'}, {'id': 59650, 'title': 'AmerAsian', 'type': 'Movie', 'year': '2009', 'genre': 'Romance', 'idOwner': 'tt0437065', 'image': 'https://m.media-amazon.com/images/M/MV5BMTgwMjIxMDg1NV5BMl5BanBnXkFtZTcwMjQyOTczMQ@@._V1_.jpg'}, {'id': 59651, 'title': 'Why George?', 'type': 'Movie', 'year': '2009', 'genre': 'Romance', 'idOwner': 'tt0437550', 'image': 'Unknown'}, {'id': 59652, 'title': 'Kisse Pyaar Karoon?', 'type': 'Movie', 'year': '2009', 'genre': 'Romance', 'idOwner': 'tt0438894', 'image': 'https://m.media-amazon.com/images/M/MV5BODU3NGRjYjEtZTViNS00NmE0LWFlOGUtYmJkODhhYmJiNzRjXkEyXkFqcGdeQXVyODE5NzE3OTE@._V1_.jpg'}, {'id': 59653, 'title': 'Yesterday Was a Lie', 'type': 'Movie', 'year': '2009', 'genre': 'Romance', 'idOwner': 'tt0448182', 'image': 'https://m.media-amazon.com/images/M/MV5BMTA2MTk1MTU2MTFeQTJeQWpwZ15BbWU3MDcwODA5OTI@._V1_.jpg'}]}\n",
      "<class 'dict'>\n"
     ]
    }
   ],
   "source": [
    "#Llamar a la API con sus variables ya que la URL debe de ser string dinámico puesto que cambian los datos dentro.\n",
    "\n",
    "anio_lista = list(range(2009,2025))\n",
    "\n",
    "#Lista para añadir los datos por año y género\n",
    "datos_peliculas = []\n",
    "#Diccionarios de géneros\n",
    "generos_lista = [\"Drama\", \"Comedy\", \"Action\", \"Fantasy\", \"Horror\", \"Mystery\", \"Romance\", \"Thriller\"]\n",
    "\n",
    "\n",
    "#Extraer datos por año y genero y almacenarlo en la variable peliculas\n",
    "for anio in anio_lista:\n",
    "    for genero  in generos_lista:\n",
    "        #URL dinámica con año y género\n",
    "        url_movies = f\"https://dev.adalab.es/api/cinema/movies?year={anio}&genre={genero}\"\n",
    "        #Llamada con request a la url\n",
    "        res_url_movies = requests.get(url_movies)\n",
    "        #print(res_url_movies.status_code)\n",
    "        #print(res_url_movies.reason)\n",
    "        sleep(5)       \n",
    "            #Convertir la info en json\n",
    "        if res_url_movies.status_code == 200:\n",
    "            json_url_general = res_url_movies.json()\n",
    "            print(json_url_general)\n",
    "            print(type(json_url_general))\n",
    "            #for peliculas in json_url_general:\n",
    "                #id = peliculas[\"id\"]\n",
    "                #titulo = peliculas['title']\n",
    "                #tipo = peliculas[\"type\"]\n",
    "                #anio = peliculas[\"year\"]\n",
    "                #genero = [\"genre\"]\n",
    "                #datos_peliculas.append({\"id\": id,\"title\":titulo,\"type\":tipo,\"year\":anio,\"genre\":genero})\n",
    "        else:\n",
    "            print(f\"Error: {res_url_movies.reason}\")\n",
    "\n",
    "#df_peliculas = pd.DataFrame(datos_peliculas)\n",
    "\n",
    "#print(df_peliculas)\n"
   ]
  },
  {
   "cell_type": "markdown",
   "metadata": {},
   "source": [
    "# importamos las librerías que necesitamos (jackie)\n",
    "#Importar librerías para su posterior uso en el código\n",
    "import tqdm\n",
    "from bs4 import BeautifulSoup\n",
    "import requests\n",
    "import pandas as pd\n",
    "import re\n",
    "import datetime\n",
    "import json\n",
    "from time import sleep\n",
    "pd.set_option('display.max_columns', None) # para poder visualizar todas las columnas de los DataFrames\n",
    "anios_pelis = list(range(2004,2025))\n",
    "peliculas = []\n",
    "generos_pelis = [\"Drama\", \"Comedy\", \"Action\", \"Fantasy\", \"Horror\", \"Mystery\", \"Romance\", \"Thriller\"]\n",
    "for anio in anios_pelis:\n",
    "    for generos in generos_pelis:\n",
    "        # Formar la URL para hacer la solicitud a la API\n",
    "        url = f\"https://dev.adalab.es/api/cinema/movies?year={anio}&genre={generos}\"\n",
    "        #Hacemos la llamada a la API\n",
    "        llamada = requests.get(url)\n",
    "        sleep(3)\n",
    "        # Verificar si la solicitud fue exitosa\n",
    "        if llamada.status_code == 200:\n",
    "            # Obtener los datos en formato JSON\n",
    "                data = llamada.json()\n",
    "                #peliculas_todas = data.get('results', [])\n",
    "                print(data)\n",
    "        else:\n",
    "             print(f\"error{llamada.reason}\")\n"
   ]
  },
  {
   "cell_type": "markdown",
   "metadata": {},
   "source": [
    "- Output CARLA de bucle for:\n",
    "\n",
    "Procesando películas: 100%|██████████| 10/10 [00:00<?, ?it/s]\n",
    "Resultados obtenidos:\n",
    "Título: El Tango del Viudo y Su Espejo Deformante, Tipo: Movie, Año: 2020, Género: Drama, ID: tt0062336\n",
    "Título: Love & Orgasms, Tipo: Movie, Año: 2020, Género: Drama, ID: tt0383477\n",
    "Título: I Know This Much Is True, Tipo: TV Series, Año: 2020, Género: Drama, ID: tt0425118\n",
    "Título: Surviving in L.A., Tipo: Movie, Año: 2020, Género: Drama, ID: tt0446792\n",
    "Título: Duel of Legends, Tipo: Movie, Año: 2020, Género: Drama, ID: tt0849437\n",
    "Título: Lost Girls and Love Hotels, Tipo: Movie, Año: 2020, Género: Drama, ID: tt0920462\n",
    "Título: \"Gallavich!\", Tipo: TV Episode, Año: 2020, Género: Drama, ID: tt10001184\n",
    "Título: Chapter One: The Singing Bones, Tipo: TV Episode, Año: 2020, Género: Drama, ID: tt10004744\n",
    "Título: Avocado Toast the series, Tipo: TV Series, Año: 2020, Género: Drama, ID: tt10006418\n",
    "Título: Hiving the Bees, Tipo: TV Episode, Año: 2020, Género: Drama, ID: tt10004704\n",
    "Datos guardados en movies_Drama_2020.csv"
   ]
  }
 ],
 "metadata": {
  "kernelspec": {
   "display_name": "base",
   "language": "python",
   "name": "python3"
  },
  "language_info": {
   "codemirror_mode": {
    "name": "ipython",
    "version": 3
   },
   "file_extension": ".py",
   "mimetype": "text/x-python",
   "name": "python",
   "nbconvert_exporter": "python",
   "pygments_lexer": "ipython3",
   "version": "3.9.12"
  }
 },
 "nbformat": 4,
 "nbformat_minor": 2
}
